{
 "cells": [
  {
   "cell_type": "markdown",
   "metadata": {},
   "source": [
    "# Model\n",
    "- LightGBM 사용\n",
    "- 일반적 성능도 좋지만 속도가 빨라서 여러번 실험을 해볼 수 있었음\n",
    "- 데이터의 크기가 너무 커서 파라미터 튜닝이 어려웠음\n",
    "    - 직접 파라미터를 찍어가면서 validation이 좋은 단일 모델을 찾음  \n",
    "- 단일 모델에 bagging 을 적용하여 30개의 모델을 평균으로 앙상블함"
   ]
  },
  {
   "cell_type": "code",
   "execution_count": 1,
   "metadata": {},
   "outputs": [],
   "source": [
    "import pandas as pd\n",
    "import numpy as np\n",
    "import lightgbm as lgb"
   ]
  },
  {
   "cell_type": "code",
   "execution_count": null,
   "metadata": {},
   "outputs": [],
   "source": [
    "# 재현을 위해 랜덤시드를 고정해 놓고 돌렸어야 했는데 실수로 시드 고정을 빠트림\n",
    "# np.random.seed(12)"
   ]
  },
  {
   "cell_type": "code",
   "execution_count": 2,
   "metadata": {},
   "outputs": [],
   "source": [
    "# 저장된 데이터 불러오기\n",
    "x_train = pd.read_pickle('./data/x_train_1.pickle')\n",
    "x_valid = pd.read_pickle('./data/x_val_1.pickle')\n",
    "x_test = pd.read_pickle('./data/x_test_1.pickle')\n",
    "y_train = pd.read_pickle('./data/Y_train_1.pickle')\n",
    "y_valid = pd.read_pickle('./data/Y_valid_1.pickle')"
   ]
  },
  {
   "cell_type": "code",
   "execution_count": 5,
   "metadata": {},
   "outputs": [],
   "source": [
    "params = {\n",
    "    'learning_rate' : 0.11,\n",
    "    'num_leaves' : 400,\n",
    "    'n_estimators' : 300,\n",
    "    'max_depth': -1,\n",
    "    'min_child_weight' : 3, \n",
    "    'subsample' : 0.8,\n",
    "    'colsample_bytree' : 0.5,\n",
    "    'n_jobs': -1,\n",
    "    'lambda' : 0.7\n",
    "}"
   ]
  },
  {
   "cell_type": "code",
   "execution_count": 7,
   "metadata": {},
   "outputs": [
    {
     "name": "stderr",
     "output_type": "stream",
     "text": [
      "/home/aiffel0042/anaconda3/envs/aiffel/lib/python3.7/site-packages/lightgbm/engine.py:148: UserWarning: Found `n_estimators` in params. Will use it instead of argument\n",
      "  warnings.warn(\"Found `{}` in params. Will use it instead of argument\".format(alias))\n"
     ]
    }
   ],
   "source": [
    "bagging_predict = [] # 예측 값 array 저장을 위한 리스트\n",
    "for _ in range(30): # iteration 30회 - 30회는 임의로 정한 숫자\n",
    "    data_index = [idx  for idx in range(x_train.shape[0])] # 전체 데이터의 인덱스를 추출한 리스트\n",
    "    random_index = np.random.choice(data_index, x_train.shape[0]) # 복원추출 적용\n",
    "    lgb_data = lgb.Dataset(data=x_train.iloc[random_index,], label=y_train.iloc[random_index,]) #  train dataset\n",
    "    lgb_val = lgb.Dataset(data=x_valid, label=y_valid) # validation dataset\n",
    "    lgb_model = lgb.train(params=params, train_set=lgb_data, valid_sets= lgb_val) # model train\n",
    "    predict = lgb_model.predict(x_test) # prediction\n",
    "    bagging_predict.append(predict) # 예측 값 array 저장"
   ]
  },
  {
   "cell_type": "code",
   "execution_count": 8,
   "metadata": {},
   "outputs": [
    {
     "data": {
      "text/plain": [
       "30"
      ]
     },
     "execution_count": 8,
     "metadata": {},
     "output_type": "execute_result"
    }
   ],
   "source": [
    "len(bagging_predict)"
   ]
  },
  {
   "cell_type": "code",
   "execution_count": 9,
   "metadata": {},
   "outputs": [],
   "source": [
    "prediction = [] # 예측 값 리스트\n",
    "for idx2 in range(x_test.shape[0]): # test의 index 만큼 iteration\n",
    "    temp = []\n",
    "    # 각 array line by line 으로 평균 내어 prediction에 저장\n",
    "    for idx in range(len(bagging_predict)): \n",
    "        temp.append(bagging_predict[idx][idx2])\n",
    "    prediction.append(np.mean(temp))"
   ]
  },
  {
   "cell_type": "code",
   "execution_count": 10,
   "metadata": {},
   "outputs": [
    {
     "data": {
      "text/plain": [
       "214200"
      ]
     },
     "execution_count": 10,
     "metadata": {},
     "output_type": "execute_result"
    }
   ],
   "source": [
    "len(prediction)"
   ]
  },
  {
   "cell_type": "code",
   "execution_count": 11,
   "metadata": {},
   "outputs": [],
   "source": [
    "# test set\n",
    "test=pd.read_csv(\"./data/test.csv\")"
   ]
  },
  {
   "cell_type": "code",
   "execution_count": 15,
   "metadata": {},
   "outputs": [],
   "source": [
    "# submission 파일 만들기\n",
    "Y_test = np.array(prediction).clip(0,20)\n",
    "\n",
    "submission = pd.DataFrame({\n",
    "    \"ID\": test.index, \n",
    "    \"item_cnt_month\": Y_test\n",
    "})\n",
    "submission.to_csv('lgb_submission3_en.csv', index=False)"
   ]
  }
 ],
 "metadata": {
  "kernelspec": {
   "display_name": "aiffel",
   "language": "python",
   "name": "aiffel"
  },
  "language_info": {
   "codemirror_mode": {
    "name": "ipython",
    "version": 3
   },
   "file_extension": ".py",
   "mimetype": "text/x-python",
   "name": "python",
   "nbconvert_exporter": "python",
   "pygments_lexer": "ipython3",
   "version": "3.7.6"
  }
 },
 "nbformat": 4,
 "nbformat_minor": 4
}
